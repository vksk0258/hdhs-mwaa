{
 "cells": [
  {
   "metadata": {
    "ExecuteTime": {
     "end_time": "2025-03-04T02:05:46.142347Z",
     "start_time": "2025-03-04T02:05:46.120906Z"
    }
   },
   "cell_type": "code",
   "source": [
    "X ='20250302'\n",
    "print(X[:6])"
   ],
   "id": "b6abc8d297a0b0dc",
   "outputs": [
    {
     "name": "stdout",
     "output_type": "stream",
     "text": [
      "202503\n"
     ]
    }
   ],
   "execution_count": 9
  }
 ],
 "metadata": {
  "kernelspec": {
   "display_name": "Python 3",
   "language": "python",
   "name": "python3"
  },
  "language_info": {
   "codemirror_mode": {
    "name": "ipython",
    "version": 2
   },
   "file_extension": ".py",
   "mimetype": "text/x-python",
   "name": "python",
   "nbconvert_exporter": "python",
   "pygments_lexer": "ipython2",
   "version": "2.7.6"
  }
 },
 "nbformat": 4,
 "nbformat_minor": 5
}
