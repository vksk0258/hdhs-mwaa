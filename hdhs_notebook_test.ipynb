{
 "cells": [
  {
   "cell_type": "code",
   "id": "initial_id",
   "metadata": {
    "collapsed": true,
    "ExecuteTime": {
     "end_time": "2024-12-18T06:37:17.500253Z",
     "start_time": "2024-12-18T06:37:17.488860Z"
    }
   },
   "source": [
    "from datetime import datetime\n",
    "from dateutil import relativedelta\n",
    "\n",
    "now = datetime(year=2023, month=12, day=18, hour=12, minute=18, second=0)\n",
    "\n",
    "print('현재시간:' + str(now))\n",
    "print('------------월 연산-------------')\n",
    "print(now + relativedelta.relativedelta(month=1))\n",
    "print(now.replace(month=1))"
   ],
   "outputs": [
    {
     "name": "stdout",
     "output_type": "stream",
     "text": [
      "현재시간:2023-12-18 12:18:00\n",
      "------------월 연산-------------\n",
      "2023-01-18 12:18:00\n",
      "2023-01-18 12:18:00\n"
     ]
    }
   ],
   "execution_count": 5
  },
  {
   "metadata": {
    "ExecuteTime": {
     "end_time": "2024-12-19T05:38:04.020867Z",
     "start_time": "2024-12-19T05:38:02.443596Z"
    }
   },
   "cell_type": "code",
   "source": [
    "import snowflake.connector\n",
    "\n",
    "# 스노우플레이크 연결 설정\n",
    "conn = snowflake.connector.connect(\n",
    "    user='hdhsdwload',                # 스노우플레이크 사용자명\n",
    "    password='Ghatyvld1!',            # 비밀번호\n",
    "    account='dz48560.ap-northeast-2.aws',              # 계정 (예: xy12345.ap-southeast-2)\n",
    "    warehouse='DW_LOAD_WH'          # 스키마 이름\n",
    ")\n",
    "\n",
    "try:\n",
    "    # 커서 생성\n",
    "    cursor = conn.cursor()\n",
    "\n",
    "    # SQL 쿼리 실행\n",
    "    query = \"SELECT COUNT(*) FROM DW_LOAD_DB.HDHS_CU.CU_ITNT_CUST_GRD_1_INF\"  # 조회할 테이블과 조건\n",
    "    query2 = \"SELECT COUNT(*),SUM(ORD_AMT) FROM DW_LOAD_DB.HDHS_CU.CU_ITNT_CUST_GRD_1_INF\"  # 조회할 테이블과 조건\n",
    "    query3 = f\"\"\"\n",
    "        SELECT COLUMN_NAME\n",
    "        FROM DW_LOAD_DB.INFORMATION_SCHEMA.COLUMNS\n",
    "        WHERE TABLE_SCHEMA = 'HDHS_CU'\n",
    "          AND TABLE_NAME = 'CU_ITNT_CUST_GRD_1_INF'\n",
    "        ORDER BY ORDINAL_POSITION\n",
    "        \"\"\"\n",
    "    cursor.execute(query)\n",
    "    print (cursor.fetchone())\n",
    "    \n",
    "    cursor.execute(query2)\n",
    "    print (type(cursor.fetchone()[1]))\n",
    "    \n",
    "    cursor.execute(query3)\n",
    "    colums = [row[0] for row in cursor.fetchall()]\n",
    "    print(colums)\n",
    "\n",
    "    # 결과 출력\n",
    "\n",
    "finally:\n",
    "    # 연결 닫기\n",
    "    cursor.close()\n",
    "    conn.close()\n"
   ],
   "id": "a4d254ab7ee43f08",
   "outputs": [
    {
     "name": "stdout",
     "output_type": "stream",
     "text": [
      "(24336442,)\n",
      "<class 'int'>\n",
      "['CUST_NO', 'ITNT_GRD_GBCD', 'BLOG_CNT', 'ORD_CNT', 'ORD_AMT', 'RCNT_11_MTHS_EVAL_CNT', 'RCNT_11_MTHS_ORD_CNT', 'RCNT_11_MTHS_ORD_AMT', 'GRD_RETN_MTHS', 'RGST_ID', 'RGST_IP', 'REG_DTM', 'CHGP_ID', 'CHGP_IP', 'CHG_DTM']\n"
     ]
    }
   ],
   "execution_count": 18
  },
  {
   "metadata": {
    "ExecuteTime": {
     "end_time": "2024-12-20T01:18:49.052030Z",
     "start_time": "2024-12-20T01:18:49.046998Z"
    }
   },
   "cell_type": "code",
   "source": [
    "colums = set(colums) - set(['CUST_NO'])\n",
    "print(list(colums))\n",
    "print(type(colums))"
   ],
   "id": "6ae178591ea563f1",
   "outputs": [
    {
     "name": "stdout",
     "output_type": "stream",
     "text": [
      "['RGST_ID', 'RCNT_11_MTHS_EVAL_CNT', 'REG_DTM', 'GRD_RETN_MTHS', 'CHG_DTM', 'ITNT_GRD_GBCD', 'ORD_CNT', 'RCNT_11_MTHS_ORD_CNT', 'RCNT_11_MTHS_ORD_AMT', 'BLOG_CNT', 'RGST_IP', 'ORD_AMT', 'CHGP_IP', 'CHGP_ID']\n",
      "<class 'set'>\n"
     ]
    }
   ],
   "execution_count": 21
  },
  {
   "metadata": {
    "ExecuteTime": {
     "end_time": "2024-12-20T03:41:11.754655Z",
     "start_time": "2024-12-20T03:41:11.675151Z"
    }
   },
   "cell_type": "code",
   "source": [
    "a = ['CUST_NO', 'CUST_AGR_GBCD', 'APLY_STRT_DTM', 'AGR_YN', 'MEMO', 'RGST_ID', 'RGST_IP', 'REG_DTM', 'CHGP_ID', 'CHGP_IP', 'CHG_DTM']\n",
    "b = ['CHGP_ID', 'REG_DTM', 'RGST_IP', 'CHGP_IP', 'MEMO', 'AGR_YN', 'APLY_STRT_DTM', 'RGST_ID', 'CUST_NO', 'CHG_DTM', 'CUST_AGR_GBCD']\n",
    "\n",
    "a- b"
   ],
   "id": "18d5ba291c014dc2",
   "outputs": [
    {
     "ename": "TypeError",
     "evalue": "unsupported operand type(s) for -: 'list' and 'list'",
     "output_type": "error",
     "traceback": [
      "\u001B[1;31m---------------------------------------------------------------------------\u001B[0m",
      "\u001B[1;31mTypeError\u001B[0m                                 Traceback (most recent call last)",
      "Cell \u001B[1;32mIn[23], line 4\u001B[0m\n\u001B[0;32m      1\u001B[0m a \u001B[38;5;241m=\u001B[39m [\u001B[38;5;124m'\u001B[39m\u001B[38;5;124mCUST_NO\u001B[39m\u001B[38;5;124m'\u001B[39m, \u001B[38;5;124m'\u001B[39m\u001B[38;5;124mCUST_AGR_GBCD\u001B[39m\u001B[38;5;124m'\u001B[39m, \u001B[38;5;124m'\u001B[39m\u001B[38;5;124mAPLY_STRT_DTM\u001B[39m\u001B[38;5;124m'\u001B[39m, \u001B[38;5;124m'\u001B[39m\u001B[38;5;124mAGR_YN\u001B[39m\u001B[38;5;124m'\u001B[39m, \u001B[38;5;124m'\u001B[39m\u001B[38;5;124mMEMO\u001B[39m\u001B[38;5;124m'\u001B[39m, \u001B[38;5;124m'\u001B[39m\u001B[38;5;124mRGST_ID\u001B[39m\u001B[38;5;124m'\u001B[39m, \u001B[38;5;124m'\u001B[39m\u001B[38;5;124mRGST_IP\u001B[39m\u001B[38;5;124m'\u001B[39m, \u001B[38;5;124m'\u001B[39m\u001B[38;5;124mREG_DTM\u001B[39m\u001B[38;5;124m'\u001B[39m, \u001B[38;5;124m'\u001B[39m\u001B[38;5;124mCHGP_ID\u001B[39m\u001B[38;5;124m'\u001B[39m, \u001B[38;5;124m'\u001B[39m\u001B[38;5;124mCHGP_IP\u001B[39m\u001B[38;5;124m'\u001B[39m, \u001B[38;5;124m'\u001B[39m\u001B[38;5;124mCHG_DTM\u001B[39m\u001B[38;5;124m'\u001B[39m]\n\u001B[0;32m      2\u001B[0m b \u001B[38;5;241m=\u001B[39m [\u001B[38;5;124m'\u001B[39m\u001B[38;5;124mCHGP_ID\u001B[39m\u001B[38;5;124m'\u001B[39m, \u001B[38;5;124m'\u001B[39m\u001B[38;5;124mREG_DTM\u001B[39m\u001B[38;5;124m'\u001B[39m, \u001B[38;5;124m'\u001B[39m\u001B[38;5;124mRGST_IP\u001B[39m\u001B[38;5;124m'\u001B[39m, \u001B[38;5;124m'\u001B[39m\u001B[38;5;124mCHGP_IP\u001B[39m\u001B[38;5;124m'\u001B[39m, \u001B[38;5;124m'\u001B[39m\u001B[38;5;124mMEMO\u001B[39m\u001B[38;5;124m'\u001B[39m, \u001B[38;5;124m'\u001B[39m\u001B[38;5;124mAGR_YN\u001B[39m\u001B[38;5;124m'\u001B[39m, \u001B[38;5;124m'\u001B[39m\u001B[38;5;124mAPLY_STRT_DTM\u001B[39m\u001B[38;5;124m'\u001B[39m, \u001B[38;5;124m'\u001B[39m\u001B[38;5;124mRGST_ID\u001B[39m\u001B[38;5;124m'\u001B[39m, \u001B[38;5;124m'\u001B[39m\u001B[38;5;124mCUST_NO\u001B[39m\u001B[38;5;124m'\u001B[39m, \u001B[38;5;124m'\u001B[39m\u001B[38;5;124mCHG_DTM\u001B[39m\u001B[38;5;124m'\u001B[39m, \u001B[38;5;124m'\u001B[39m\u001B[38;5;124mCUST_AGR_GBCD\u001B[39m\u001B[38;5;124m'\u001B[39m]\n\u001B[1;32m----> 4\u001B[0m \u001B[43ma\u001B[49m\u001B[38;5;241;43m-\u001B[39;49m\u001B[43m \u001B[49m\u001B[43mb\u001B[49m\n",
      "\u001B[1;31mTypeError\u001B[0m: unsupported operand type(s) for -: 'list' and 'list'"
     ]
    }
   ],
   "execution_count": 23
  }
 ],
 "metadata": {
  "kernelspec": {
   "display_name": "Python 3",
   "language": "python",
   "name": "python3"
  },
  "language_info": {
   "codemirror_mode": {
    "name": "ipython",
    "version": 2
   },
   "file_extension": ".py",
   "mimetype": "text/x-python",
   "name": "python",
   "nbconvert_exporter": "python",
   "pygments_lexer": "ipython2",
   "version": "2.7.6"
  }
 },
 "nbformat": 4,
 "nbformat_minor": 5
}
