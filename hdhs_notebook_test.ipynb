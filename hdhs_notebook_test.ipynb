{
 "cells": [
  {
   "cell_type": "code",
   "id": "initial_id",
   "metadata": {
    "collapsed": true,
    "ExecuteTime": {
     "end_time": "2024-12-18T06:37:17.500253Z",
     "start_time": "2024-12-18T06:37:17.488860Z"
    }
   },
   "source": [
    "from datetime import datetime\n",
    "from dateutil import relativedelta\n",
    "\n",
    "now = datetime(year=2023, month=12, day=18, hour=12, minute=18, second=0)\n",
    "\n",
    "print('현재시간:' + str(now))\n",
    "print('------------월 연산-------------')\n",
    "print(now + relativedelta.relativedelta(month=1))\n",
    "print(now.replace(month=1))"
   ],
   "outputs": [
    {
     "name": "stdout",
     "output_type": "stream",
     "text": [
      "현재시간:2023-12-18 12:18:00\n",
      "------------월 연산-------------\n",
      "2023-01-18 12:18:00\n",
      "2023-01-18 12:18:00\n"
     ]
    }
   ],
   "execution_count": 5
  },
  {
   "metadata": {
    "ExecuteTime": {
     "end_time": "2024-12-23T05:46:28.748949Z",
     "start_time": "2024-12-23T05:46:17.367175Z"
    }
   },
   "cell_type": "code",
   "source": [
    "import snowflake.connector\n",
    "import pandas as pd\n",
    "\n",
    "# 스노우플레이크 연결 설정\n",
    "conn = snowflake.connector.connect(\n",
    "    user='hdhsdwload',                # 스노우플레이크 사용자명\n",
    "    password='Ghatyvld1!',            # 비밀번호\n",
    "    account='dz48560.ap-northeast-2.aws',              # 계정 (예: xy12345.ap-southeast-2)\n",
    "    warehouse='DW_LOAD_WH'          # 스키마 이름\n",
    ")\n",
    "\n",
    "try:\n",
    "    # 커서 생성\n",
    "    cursor = conn.cursor()\n",
    "\n",
    "    # SQL 쿼리 실행\n",
    "    query = \"SELECT COUNT(*) FROM DW_LOAD_DB.HDHS_CU.CU_ITNT_CUST_GRD_1_INF\"  # 조회할 테이블과 조건\n",
    "    query2 = \"alter stage DW_LOAD_DB.CONFIG.STG_AWS_S3 refresh\"  # 조회할 테이블과 조건\n",
    "    query3 = f\"\"\"\n",
    "        SELECT \n",
    "            A.TABLE_SCHEMA,\n",
    "            A.TABLE_NAME,\n",
    "            LISTAGG('''' || REPLACE(A.RELATIVE_PATH, A.TABLE_SCHEMA || '/' || A.TABLE_NAME || '/' , '') || ''''  , ',')  WITHIN GROUP (ORDER BY A.LAST_MODIFIED)  AS FILE_NAME\n",
    "        FROM \n",
    "            DW_LOAD_DB.CONFIG.V_S3_LIST A \n",
    "        WHERE A.LAST_MODIFIED BETWEEN TO_TIMESTAMP('20241223130000','YYYYMMDDHHMISS') \n",
    "                                  AND TO_TIMESTAMP('20241223150000','YYYYMMDDHHMISS')\n",
    "          AND A.RELATIVE_PATH NOT LIKE '%LOAD%'\n",
    "        GROUP BY ALL;\n",
    "        \"\"\"\n",
    "    cursor.execute(query)\n",
    "    print (cursor.fetchall())\n",
    "    \n",
    "    cursor.execute(query2)\n",
    "    print (type(cursor.fetchone()[1]))\n",
    "    \n",
    "    colums = [row[0] for row in cursor.fetchall()]\n",
    "    df = pd.read_sql(query3, conn)\n",
    "\n",
    "    # 결과 출력\n",
    "\n",
    "finally:\n",
    "    # 연결 닫기\n",
    "    cursor.close()\n",
    "    conn.close()\n",
    "    \n",
    "df"
   ],
   "id": "a4d254ab7ee43f08",
   "outputs": [
    {
     "name": "stdout",
     "output_type": "stream",
     "text": [
      "[(24336442,)]\n"
     ]
    },
    {
     "ename": "TypeError",
     "evalue": "'NoneType' object is not subscriptable",
     "output_type": "error",
     "traceback": [
      "\u001B[1;31m---------------------------------------------------------------------------\u001B[0m",
      "\u001B[1;31mTypeError\u001B[0m                                 Traceback (most recent call last)",
      "Cell \u001B[1;32mIn[73], line 35\u001B[0m\n\u001B[0;32m     32\u001B[0m \u001B[38;5;28mprint\u001B[39m (cursor\u001B[38;5;241m.\u001B[39mfetchall())\n\u001B[0;32m     34\u001B[0m cursor\u001B[38;5;241m.\u001B[39mexecute(query2)\n\u001B[1;32m---> 35\u001B[0m \u001B[38;5;28mprint\u001B[39m (\u001B[38;5;28mtype\u001B[39m(\u001B[43mcursor\u001B[49m\u001B[38;5;241;43m.\u001B[39;49m\u001B[43mfetchone\u001B[49m\u001B[43m(\u001B[49m\u001B[43m)\u001B[49m\u001B[43m[\u001B[49m\u001B[38;5;241;43m1\u001B[39;49m\u001B[43m]\u001B[49m))\n\u001B[0;32m     37\u001B[0m colums \u001B[38;5;241m=\u001B[39m [row[\u001B[38;5;241m0\u001B[39m] \u001B[38;5;28;01mfor\u001B[39;00m row \u001B[38;5;129;01min\u001B[39;00m cursor\u001B[38;5;241m.\u001B[39mfetchall()]\n\u001B[0;32m     38\u001B[0m df \u001B[38;5;241m=\u001B[39m pd\u001B[38;5;241m.\u001B[39mread_sql(query3, conn)\n",
      "\u001B[1;31mTypeError\u001B[0m: 'NoneType' object is not subscriptable"
     ]
    }
   ],
   "execution_count": 73
  },
  {
   "metadata": {
    "ExecuteTime": {
     "end_time": "2024-12-23T05:25:08.951840Z",
     "start_time": "2024-12-23T05:25:08.948221Z"
    }
   },
   "cell_type": "code",
   "source": "df =pd.DataFrame(df)",
   "id": "6ae178591ea563f1",
   "outputs": [],
   "execution_count": 50
  },
  {
   "metadata": {
    "ExecuteTime": {
     "end_time": "2024-12-23T05:25:15.199080Z",
     "start_time": "2024-12-23T05:25:15.191693Z"
    }
   },
   "cell_type": "code",
   "source": "df",
   "id": "18d5ba291c014dc2",
   "outputs": [
    {
     "data": {
      "text/plain": [
       "  TABLE_SCHEMA                   TABLE_NAME  \\\n",
       "0      HDHS_OD  OD_HPNT_PAY_APRVL_DTL_CRYPT   \n",
       "1      HDHS_CU        CU_ARS_LDIN_MST_CRYPT   \n",
       "2      HDHS_OD       OD_CRD_APRVL_LOG_CRYPT   \n",
       "3      HDHS_OD                 OD_BASKT_INF   \n",
       "4      HDHS_OD            OD_STLM_INF_CRYPT   \n",
       "\n",
       "                                           FILE_NAME  \n",
       "0  '2024/12/23/OD_HPNT_PAY_APRVL_DTL_CRYPT_202412...  \n",
       "1  '2024/12/23/CU_ARS_LDIN_MST_CRYPT_20241223_030...  \n",
       "2  '2024/12/23/OD_CRD_APRVL_LOG_CRYPT_20241223_03...  \n",
       "3  '2024/12/23/20241223-040052103.csv','2024/12/2...  \n",
       "4  '2024/12/23/OD_STLM_INF_CRYPT_20241223_030000....  "
      ],
      "text/html": [
       "<div>\n",
       "<style scoped>\n",
       "    .dataframe tbody tr th:only-of-type {\n",
       "        vertical-align: middle;\n",
       "    }\n",
       "\n",
       "    .dataframe tbody tr th {\n",
       "        vertical-align: top;\n",
       "    }\n",
       "\n",
       "    .dataframe thead th {\n",
       "        text-align: right;\n",
       "    }\n",
       "</style>\n",
       "<table border=\"1\" class=\"dataframe\">\n",
       "  <thead>\n",
       "    <tr style=\"text-align: right;\">\n",
       "      <th></th>\n",
       "      <th>TABLE_SCHEMA</th>\n",
       "      <th>TABLE_NAME</th>\n",
       "      <th>FILE_NAME</th>\n",
       "    </tr>\n",
       "  </thead>\n",
       "  <tbody>\n",
       "    <tr>\n",
       "      <th>0</th>\n",
       "      <td>HDHS_OD</td>\n",
       "      <td>OD_HPNT_PAY_APRVL_DTL_CRYPT</td>\n",
       "      <td>'2024/12/23/OD_HPNT_PAY_APRVL_DTL_CRYPT_202412...</td>\n",
       "    </tr>\n",
       "    <tr>\n",
       "      <th>1</th>\n",
       "      <td>HDHS_CU</td>\n",
       "      <td>CU_ARS_LDIN_MST_CRYPT</td>\n",
       "      <td>'2024/12/23/CU_ARS_LDIN_MST_CRYPT_20241223_030...</td>\n",
       "    </tr>\n",
       "    <tr>\n",
       "      <th>2</th>\n",
       "      <td>HDHS_OD</td>\n",
       "      <td>OD_CRD_APRVL_LOG_CRYPT</td>\n",
       "      <td>'2024/12/23/OD_CRD_APRVL_LOG_CRYPT_20241223_03...</td>\n",
       "    </tr>\n",
       "    <tr>\n",
       "      <th>3</th>\n",
       "      <td>HDHS_OD</td>\n",
       "      <td>OD_BASKT_INF</td>\n",
       "      <td>'2024/12/23/20241223-040052103.csv','2024/12/2...</td>\n",
       "    </tr>\n",
       "    <tr>\n",
       "      <th>4</th>\n",
       "      <td>HDHS_OD</td>\n",
       "      <td>OD_STLM_INF_CRYPT</td>\n",
       "      <td>'2024/12/23/OD_STLM_INF_CRYPT_20241223_030000....</td>\n",
       "    </tr>\n",
       "  </tbody>\n",
       "</table>\n",
       "</div>"
      ]
     },
     "execution_count": 51,
     "metadata": {},
     "output_type": "execute_result"
    }
   ],
   "execution_count": 51
  },
  {
   "metadata": {
    "ExecuteTime": {
     "end_time": "2024-12-23T05:25:36.237971Z",
     "start_time": "2024-12-23T05:25:36.232087Z"
    }
   },
   "cell_type": "code",
   "source": "df['TABLE_NAME'][0]",
   "id": "da572607cb51c80b",
   "outputs": [
    {
     "data": {
      "text/plain": [
       "'OD_HPNT_PAY_APRVL_DTL_CRYPT'"
      ]
     },
     "execution_count": 53,
     "metadata": {},
     "output_type": "execute_result"
    }
   ],
   "execution_count": 53
  },
  {
   "metadata": {
    "ExecuteTime": {
     "end_time": "2024-12-23T07:42:06.542270Z",
     "start_time": "2024-12-23T07:42:05.866600Z"
    }
   },
   "cell_type": "code",
   "source": [
    "# 스노우플레이크 연결 설정\n",
    "conn = snowflake.connector.connect(\n",
    "    user='hdhsdwload',                # 스노우플레이크 사용자명\n",
    "    password='Ghatyvld1!',            # 비밀번호\n",
    "    account='dz48560.ap-northeast-2.aws',              # 계정 (예: xy12345.ap-southeast-2)\n",
    "    warehouse='DW_LOAD_WH'          # 스키마 이름\n",
    ")\n",
    "\n",
    "cursor = conn.cursor()\n",
    "\n",
    "# for i,row in df.iterrows():\n",
    "#     if df['TABLE_SCHEMA'][i] == \"HDHS_OD\" and df['TABLE_NAME'][i] != \"OD_BASKT_INF\":\n",
    "#         \n",
    "#         query5 = f\"\"\"\n",
    "#         CALL DW_LOAD_DB.CONFIG.PROC_CDC_SUB('DW_LOAD_DB','HDHS_OD','{df['TABLE_NAME'][i]}','{df['FILE_NAME']}','20241223120000','20241223150000')\n",
    "#         \"\"\"\n",
    "#         print(query5)\n",
    "#         cursor.execute(query5)\n",
    "#         print(cursor.fetchall())\n",
    "        \n",
    "query5 = f\"\"\" \n",
    "    CALL DW_LOAD_DB.CONFIG.PROC_CDC_SUB(\n",
    "        'DW_LOAD_DB',\n",
    "        'HDHS_OD',\n",
    "        '{df['TABLE_NAME'][1]}',\"\"\" + str(\"''2024/12/23/CU_ARS_LDIN_MST_CRYPT_20241223_030000.csv','2024/12/23/20241223_040000.csv''\") +\"\"\",\n",
    "        '20241223120000',\n",
    "        '20241223150000'\n",
    "    )\n",
    "    \"\"\"\n",
    "print(query5)\n",
    "cursor.execute(query5)\n",
    "print(cursor.fetchall())\n",
    "        \n",
    "        \n",
    "cursor.close()\n",
    "conn.close() "
   ],
   "id": "1e6285b9daed5c48",
   "outputs": [
    {
     "name": "stdout",
     "output_type": "stream",
     "text": [
      "[\u001B[34m2024-12-23T16:42:05.870+0900\u001B[0m] {\u001B[34mconnection.py:\u001B[0m413} INFO\u001B[0m - Snowflake Connector for Python Version: 3.12.2, Python Version: 3.11.10, Platform: Windows-10-10.0.22631-SP0\u001B[0m\n",
      "[\u001B[34m2024-12-23T16:42:05.871+0900\u001B[0m] {\u001B[34mconnection.py:\u001B[0m1196} INFO\u001B[0m - Connecting to GLOBAL Snowflake domain\u001B[0m\n",
      "[\u001B[34m2024-12-23T16:42:05.872+0900\u001B[0m] {\u001B[34mconnection.py:\u001B[0m1277} INFO\u001B[0m - This connection is in OCSP Fail Open Mode. TLS Certificates would be checked for validity and revocation status. Any other Certificate Revocation related exceptions or OCSP Responder failures would be disregarded in favor of connectivity.\u001B[0m\n",
      " \n",
      "    CALL DW_LOAD_DB.CONFIG.PROC_CDC_SUB(\n",
      "        'DW_LOAD_DB',\n",
      "        'HDHS_OD',\n",
      "        'CU_ARS_LDIN_MST_CRYPT',''2024/12/23/CU_ARS_LDIN_MST_CRYPT_20241223_030000.csv','2024/12/23/20241223_040000.csv'',\n",
      "        '20241223120000',\n",
      "        '20241223150000'\n",
      "    )\n",
      "    \n"
     ]
    },
    {
     "ename": "ProgrammingError",
     "evalue": "001003 (42000): 01b937ce-0000-a9e7-0000-b5f5002540ee: SQL compilation error:\nsyntax error line 4 at position 34 unexpected '2024'.",
     "output_type": "error",
     "traceback": [
      "\u001B[1;31m---------------------------------------------------------------------------\u001B[0m",
      "\u001B[1;31mProgrammingError\u001B[0m                          Traceback (most recent call last)",
      "Cell \u001B[1;32mIn[126], line 31\u001B[0m\n\u001B[0;32m     21\u001B[0m query5 \u001B[38;5;241m=\u001B[39m \u001B[38;5;124mf\u001B[39m\u001B[38;5;124m\"\"\"\u001B[39m\u001B[38;5;124m \u001B[39m\n\u001B[0;32m     22\u001B[0m \u001B[38;5;124m    CALL DW_LOAD_DB.CONFIG.PROC_CDC_SUB(\u001B[39m\n\u001B[0;32m     23\u001B[0m \u001B[38;5;124m        \u001B[39m\u001B[38;5;124m'\u001B[39m\u001B[38;5;124mDW_LOAD_DB\u001B[39m\u001B[38;5;124m'\u001B[39m\u001B[38;5;124m,\u001B[39m\n\u001B[1;32m   (...)\u001B[0m\n\u001B[0;32m     28\u001B[0m \u001B[38;5;124m    )\u001B[39m\n\u001B[0;32m     29\u001B[0m \u001B[38;5;124m    \u001B[39m\u001B[38;5;124m\"\"\"\u001B[39m\n\u001B[0;32m     30\u001B[0m \u001B[38;5;28mprint\u001B[39m(query5)\n\u001B[1;32m---> 31\u001B[0m \u001B[43mcursor\u001B[49m\u001B[38;5;241;43m.\u001B[39;49m\u001B[43mexecute\u001B[49m\u001B[43m(\u001B[49m\u001B[43mquery5\u001B[49m\u001B[43m)\u001B[49m\n\u001B[0;32m     32\u001B[0m \u001B[38;5;28mprint\u001B[39m(cursor\u001B[38;5;241m.\u001B[39mfetchall())\n\u001B[0;32m     35\u001B[0m cursor\u001B[38;5;241m.\u001B[39mclose()\n",
      "File \u001B[1;32mC:\\ProgramData\\anaconda3\\envs\\hd-ariflow\\Lib\\site-packages\\snowflake\\connector\\cursor.py:1087\u001B[0m, in \u001B[0;36mSnowflakeCursor.execute\u001B[1;34m(self, command, params, _bind_stage, timeout, _exec_async, _no_retry, _do_reset, _put_callback, _put_azure_callback, _put_callback_output_stream, _get_callback, _get_azure_callback, _get_callback_output_stream, _show_progress_bar, _statement_params, _is_internal, _describe_only, _no_results, _is_put_get, _raise_put_get_error, _force_put_overwrite, _skip_upload_on_content_match, file_stream, num_statements, _dataframe_ast)\u001B[0m\n\u001B[0;32m   1083\u001B[0m     is_integrity_error \u001B[38;5;241m=\u001B[39m (\n\u001B[0;32m   1084\u001B[0m         code \u001B[38;5;241m==\u001B[39m \u001B[38;5;124m\"\u001B[39m\u001B[38;5;124m100072\u001B[39m\u001B[38;5;124m\"\u001B[39m\n\u001B[0;32m   1085\u001B[0m     )  \u001B[38;5;66;03m# NULL result in a non-nullable column\u001B[39;00m\n\u001B[0;32m   1086\u001B[0m     error_class \u001B[38;5;241m=\u001B[39m IntegrityError \u001B[38;5;28;01mif\u001B[39;00m is_integrity_error \u001B[38;5;28;01melse\u001B[39;00m ProgrammingError\n\u001B[1;32m-> 1087\u001B[0m     \u001B[43mError\u001B[49m\u001B[38;5;241;43m.\u001B[39;49m\u001B[43merrorhandler_wrapper\u001B[49m\u001B[43m(\u001B[49m\u001B[38;5;28;43mself\u001B[39;49m\u001B[38;5;241;43m.\u001B[39;49m\u001B[43mconnection\u001B[49m\u001B[43m,\u001B[49m\u001B[43m \u001B[49m\u001B[38;5;28;43mself\u001B[39;49m\u001B[43m,\u001B[49m\u001B[43m \u001B[49m\u001B[43merror_class\u001B[49m\u001B[43m,\u001B[49m\u001B[43m \u001B[49m\u001B[43merrvalue\u001B[49m\u001B[43m)\u001B[49m\n\u001B[0;32m   1088\u001B[0m \u001B[38;5;28;01mreturn\u001B[39;00m \u001B[38;5;28mself\u001B[39m\n",
      "File \u001B[1;32mC:\\ProgramData\\anaconda3\\envs\\hd-ariflow\\Lib\\site-packages\\snowflake\\connector\\errors.py:284\u001B[0m, in \u001B[0;36mError.errorhandler_wrapper\u001B[1;34m(connection, cursor, error_class, error_value)\u001B[0m\n\u001B[0;32m    261\u001B[0m \u001B[38;5;129m@staticmethod\u001B[39m\n\u001B[0;32m    262\u001B[0m \u001B[38;5;28;01mdef\u001B[39;00m \u001B[38;5;21merrorhandler_wrapper\u001B[39m(\n\u001B[0;32m    263\u001B[0m     connection: SnowflakeConnection \u001B[38;5;241m|\u001B[39m \u001B[38;5;28;01mNone\u001B[39;00m,\n\u001B[1;32m   (...)\u001B[0m\n\u001B[0;32m    266\u001B[0m     error_value: \u001B[38;5;28mdict\u001B[39m[\u001B[38;5;28mstr\u001B[39m, Any],\n\u001B[0;32m    267\u001B[0m ) \u001B[38;5;241m-\u001B[39m\u001B[38;5;241m>\u001B[39m \u001B[38;5;28;01mNone\u001B[39;00m:\n\u001B[0;32m    268\u001B[0m \u001B[38;5;250m    \u001B[39m\u001B[38;5;124;03m\"\"\"Error handler wrapper that calls the errorhandler method.\u001B[39;00m\n\u001B[0;32m    269\u001B[0m \n\u001B[0;32m    270\u001B[0m \u001B[38;5;124;03m    Args:\u001B[39;00m\n\u001B[1;32m   (...)\u001B[0m\n\u001B[0;32m    281\u001B[0m \u001B[38;5;124;03m        exception to the first handler in that order.\u001B[39;00m\n\u001B[0;32m    282\u001B[0m \u001B[38;5;124;03m    \"\"\"\u001B[39;00m\n\u001B[1;32m--> 284\u001B[0m     handed_over \u001B[38;5;241m=\u001B[39m \u001B[43mError\u001B[49m\u001B[38;5;241;43m.\u001B[39;49m\u001B[43mhand_to_other_handler\u001B[49m\u001B[43m(\u001B[49m\n\u001B[0;32m    285\u001B[0m \u001B[43m        \u001B[49m\u001B[43mconnection\u001B[49m\u001B[43m,\u001B[49m\n\u001B[0;32m    286\u001B[0m \u001B[43m        \u001B[49m\u001B[43mcursor\u001B[49m\u001B[43m,\u001B[49m\n\u001B[0;32m    287\u001B[0m \u001B[43m        \u001B[49m\u001B[43merror_class\u001B[49m\u001B[43m,\u001B[49m\n\u001B[0;32m    288\u001B[0m \u001B[43m        \u001B[49m\u001B[43merror_value\u001B[49m\u001B[43m,\u001B[49m\n\u001B[0;32m    289\u001B[0m \u001B[43m    \u001B[49m\u001B[43m)\u001B[49m\n\u001B[0;32m    290\u001B[0m     \u001B[38;5;28;01mif\u001B[39;00m \u001B[38;5;129;01mnot\u001B[39;00m handed_over:\n\u001B[0;32m    291\u001B[0m         \u001B[38;5;28;01mraise\u001B[39;00m Error\u001B[38;5;241m.\u001B[39merrorhandler_make_exception(\n\u001B[0;32m    292\u001B[0m             error_class,\n\u001B[0;32m    293\u001B[0m             error_value,\n\u001B[0;32m    294\u001B[0m         )\n",
      "File \u001B[1;32mC:\\ProgramData\\anaconda3\\envs\\hd-ariflow\\Lib\\site-packages\\snowflake\\connector\\errors.py:339\u001B[0m, in \u001B[0;36mError.hand_to_other_handler\u001B[1;34m(connection, cursor, error_class, error_value)\u001B[0m\n\u001B[0;32m    337\u001B[0m \u001B[38;5;28;01mif\u001B[39;00m cursor \u001B[38;5;129;01mis\u001B[39;00m \u001B[38;5;129;01mnot\u001B[39;00m \u001B[38;5;28;01mNone\u001B[39;00m:\n\u001B[0;32m    338\u001B[0m     cursor\u001B[38;5;241m.\u001B[39mmessages\u001B[38;5;241m.\u001B[39mappend((error_class, error_value))\n\u001B[1;32m--> 339\u001B[0m     \u001B[43mcursor\u001B[49m\u001B[38;5;241;43m.\u001B[39;49m\u001B[43merrorhandler\u001B[49m\u001B[43m(\u001B[49m\u001B[43mconnection\u001B[49m\u001B[43m,\u001B[49m\u001B[43m \u001B[49m\u001B[43mcursor\u001B[49m\u001B[43m,\u001B[49m\u001B[43m \u001B[49m\u001B[43merror_class\u001B[49m\u001B[43m,\u001B[49m\u001B[43m \u001B[49m\u001B[43merror_value\u001B[49m\u001B[43m)\u001B[49m\n\u001B[0;32m    340\u001B[0m     \u001B[38;5;28;01mreturn\u001B[39;00m \u001B[38;5;28;01mTrue\u001B[39;00m\n\u001B[0;32m    341\u001B[0m \u001B[38;5;28;01melif\u001B[39;00m connection \u001B[38;5;129;01mis\u001B[39;00m \u001B[38;5;129;01mnot\u001B[39;00m \u001B[38;5;28;01mNone\u001B[39;00m:\n",
      "File \u001B[1;32mC:\\ProgramData\\anaconda3\\envs\\hd-ariflow\\Lib\\site-packages\\snowflake\\connector\\errors.py:215\u001B[0m, in \u001B[0;36mError.default_errorhandler\u001B[1;34m(connection, cursor, error_class, error_value)\u001B[0m\n\u001B[0;32m    213\u001B[0m errno \u001B[38;5;241m=\u001B[39m error_value\u001B[38;5;241m.\u001B[39mget(\u001B[38;5;124m\"\u001B[39m\u001B[38;5;124merrno\u001B[39m\u001B[38;5;124m\"\u001B[39m)\n\u001B[0;32m    214\u001B[0m done_format_msg \u001B[38;5;241m=\u001B[39m error_value\u001B[38;5;241m.\u001B[39mget(\u001B[38;5;124m\"\u001B[39m\u001B[38;5;124mdone_format_msg\u001B[39m\u001B[38;5;124m\"\u001B[39m)\n\u001B[1;32m--> 215\u001B[0m \u001B[38;5;28;01mraise\u001B[39;00m error_class(\n\u001B[0;32m    216\u001B[0m     msg\u001B[38;5;241m=\u001B[39merror_value\u001B[38;5;241m.\u001B[39mget(\u001B[38;5;124m\"\u001B[39m\u001B[38;5;124mmsg\u001B[39m\u001B[38;5;124m\"\u001B[39m),\n\u001B[0;32m    217\u001B[0m     errno\u001B[38;5;241m=\u001B[39m\u001B[38;5;28;01mNone\u001B[39;00m \u001B[38;5;28;01mif\u001B[39;00m errno \u001B[38;5;129;01mis\u001B[39;00m \u001B[38;5;28;01mNone\u001B[39;00m \u001B[38;5;28;01melse\u001B[39;00m \u001B[38;5;28mint\u001B[39m(errno),\n\u001B[0;32m    218\u001B[0m     sqlstate\u001B[38;5;241m=\u001B[39merror_value\u001B[38;5;241m.\u001B[39mget(\u001B[38;5;124m\"\u001B[39m\u001B[38;5;124msqlstate\u001B[39m\u001B[38;5;124m\"\u001B[39m),\n\u001B[0;32m    219\u001B[0m     sfqid\u001B[38;5;241m=\u001B[39merror_value\u001B[38;5;241m.\u001B[39mget(\u001B[38;5;124m\"\u001B[39m\u001B[38;5;124msfqid\u001B[39m\u001B[38;5;124m\"\u001B[39m),\n\u001B[0;32m    220\u001B[0m     query\u001B[38;5;241m=\u001B[39merror_value\u001B[38;5;241m.\u001B[39mget(\u001B[38;5;124m\"\u001B[39m\u001B[38;5;124mquery\u001B[39m\u001B[38;5;124m\"\u001B[39m),\n\u001B[0;32m    221\u001B[0m     done_format_msg\u001B[38;5;241m=\u001B[39m(\n\u001B[0;32m    222\u001B[0m         \u001B[38;5;28;01mNone\u001B[39;00m \u001B[38;5;28;01mif\u001B[39;00m done_format_msg \u001B[38;5;129;01mis\u001B[39;00m \u001B[38;5;28;01mNone\u001B[39;00m \u001B[38;5;28;01melse\u001B[39;00m \u001B[38;5;28mbool\u001B[39m(done_format_msg)\n\u001B[0;32m    223\u001B[0m     ),\n\u001B[0;32m    224\u001B[0m     connection\u001B[38;5;241m=\u001B[39mconnection,\n\u001B[0;32m    225\u001B[0m     cursor\u001B[38;5;241m=\u001B[39mcursor,\n\u001B[0;32m    226\u001B[0m )\n",
      "\u001B[1;31mProgrammingError\u001B[0m: 001003 (42000): 01b937ce-0000-a9e7-0000-b5f5002540ee: SQL compilation error:\nsyntax error line 4 at position 34 unexpected '2024'."
     ]
    }
   ],
   "execution_count": 126
  },
  {
   "metadata": {
    "ExecuteTime": {
     "end_time": "2024-12-23T06:39:14.338262Z",
     "start_time": "2024-12-23T06:39:14.316609Z"
    }
   },
   "cell_type": "code",
   "source": [
    "fmrom airflow.providers.snowflake.operators.snowflake import SnowflakeOperator\n",
    "\n",
    "CALL_PROCEDURE_QUERY = \"\"\"\n",
    "CALL DW_LOAD_DB.CONFIG.PROC_CDC_SUB(\n",
    "    'DW_LOAD_DB',\n",
    "    'HDHS_OD',\n",
    "    '{{ params.table_name }}',\n",
    "    '{{ params.file_name }}',\n",
    "    '{{ params.start_time }}',\n",
    "    '{{ params.end_time }}'\n",
    ")\n",
    "\"\"\"\n",
    "\n",
    "call_procedure = SnowflakeOperator(\n",
    "    task_id='call_snowflake_procedure',\n",
    "    snowflake_conn_id='my_snowflake_conn',\n",
    "    sql=CALL_PROCEDURE_QUERY,\n",
    "    params={\n",
    "        'table_name': {df['TABLE_NAME'][1]},\n",
    "        'file_name': {df['FILE_NAME'][1]},\n",
    "        'start_time': '20241223120000',\n",
    "        'end_time': '20241223150000'\n",
    "    },\n",
    ")\n",
    "\n",
    "print(call_procedure)\n"
   ],
   "id": "f5d2b561e235041",
   "outputs": [
    {
     "data": {
      "text/plain": [
       "\u001B[1;33mC:\\Users\\DKSYSTEMS\\AppData\\Local\\Temp\\ipykernel_23892\\\u001B[0m\u001B[1;33m4178600287.\u001B[0m\u001B[1;33mpy:\u001B[0m\u001B[1;33m14\u001B[0m\u001B[1;33m AirflowProviderDeprecationWarning\u001B[0m\u001B[33m: Call to deprecated class SnowflakeOperator. \u001B[0m\u001B[1;33m(\u001B[0m\u001B[33mThis class is deprecated. Please use `airflow.providers.common.sql.operators.sql.SQLExecuteQueryOperator`. Also, you can provide `\u001B[0m\u001B[33mhook_params\u001B[0m\u001B[33m=\u001B[0m\u001B[1;33m{\u001B[0m\u001B[33m'warehouse'\u001B[0m\u001B[33m: \u001B[0m\u001B[1;33m<\u001B[0m\u001B[1;33mwarehouse\u001B[0m\u001B[33m>, \u001B[0m\u001B[33m'database'\u001B[0m\u001B[33m: <database>, \u001B[0m\u001B[33m'role'\u001B[0m\u001B[33m: <role>, \u001B[0m\u001B[33m'schema'\u001B[0m\u001B[33m: <schema>, \u001B[0m\u001B[33m'authenticator'\u001B[0m\u001B[33m: <authenticator>,\u001B[0m\u001B[33m'session_parameters'\u001B[0m\u001B[33m: <session_parameters\u001B[0m\u001B[1;33m>\u001B[0m\u001B[1;33m}\u001B[0m\u001B[33m`.\u001B[0m\u001B[1;33m)\u001B[0m\n"
      ],
      "text/html": [
       "<pre style=\"white-space:pre;overflow-x:auto;line-height:normal;font-family:Menlo,'DejaVu Sans Mono',consolas,'Courier New',monospace\"><span style=\"color: #808000; text-decoration-color: #808000; font-weight: bold\">C:\\Users\\DKSYSTEMS\\AppData\\Local\\Temp\\ipykernel_23892\\</span><span style=\"color: #808000; text-decoration-color: #808000; font-weight: bold\">4178600287.</span><span style=\"color: #808000; text-decoration-color: #808000; font-weight: bold\">py:</span><span style=\"color: #808000; text-decoration-color: #808000; font-weight: bold\">14</span><span style=\"color: #808000; text-decoration-color: #808000; font-weight: bold\"> AirflowProviderDeprecationWarning</span><span style=\"color: #808000; text-decoration-color: #808000\">: Call to deprecated class SnowflakeOperator. </span><span style=\"color: #808000; text-decoration-color: #808000; font-weight: bold\">(</span><span style=\"color: #808000; text-decoration-color: #808000\">This class is deprecated. Please use `airflow.providers.common.sql.operators.sql.SQLExecuteQueryOperator`. Also, you can provide `</span><span style=\"color: #808000; text-decoration-color: #808000\">hook_params</span><span style=\"color: #808000; text-decoration-color: #808000\">=</span><span style=\"color: #808000; text-decoration-color: #808000; font-weight: bold\">{</span><span style=\"color: #808000; text-decoration-color: #808000\">'warehouse'</span><span style=\"color: #808000; text-decoration-color: #808000\">: </span><span style=\"color: #808000; text-decoration-color: #808000; font-weight: bold\">&lt;warehouse</span><span style=\"color: #808000; text-decoration-color: #808000\">&gt;, </span><span style=\"color: #808000; text-decoration-color: #808000\">'database'</span><span style=\"color: #808000; text-decoration-color: #808000\">: &lt;database&gt;, </span><span style=\"color: #808000; text-decoration-color: #808000\">'role'</span><span style=\"color: #808000; text-decoration-color: #808000\">: &lt;role&gt;, </span><span style=\"color: #808000; text-decoration-color: #808000\">'schema'</span><span style=\"color: #808000; text-decoration-color: #808000\">: &lt;schema&gt;, </span><span style=\"color: #808000; text-decoration-color: #808000\">'authenticator'</span><span style=\"color: #808000; text-decoration-color: #808000\">: &lt;authenticator&gt;,</span><span style=\"color: #808000; text-decoration-color: #808000\">'session_parameters'</span><span style=\"color: #808000; text-decoration-color: #808000\">: &lt;session_parameters</span><span style=\"color: #808000; text-decoration-color: #808000; font-weight: bold\">&gt;}</span><span style=\"color: #808000; text-decoration-color: #808000\">`.</span><span style=\"color: #808000; text-decoration-color: #808000; font-weight: bold\">)</span>\n",
       "</pre>\n"
      ]
     },
     "metadata": {},
     "output_type": "display_data"
    },
    {
     "data": {
      "text/plain": [
       "\u001B[1;33mC:\\ProgramData\\anaconda3\\envs\\hd-ariflow\\Lib\\site-packages\\airflow\\models\\param.py:\u001B[0m\u001B[1;33m75\u001B[0m\u001B[1;33m RemovedInAirflow3Warning\u001B[0m\u001B[33m: The use of non-json-serializable params is deprecated and will be removed in a future release\u001B[0m\n"
      ],
      "text/html": [
       "<pre style=\"white-space:pre;overflow-x:auto;line-height:normal;font-family:Menlo,'DejaVu Sans Mono',consolas,'Courier New',monospace\"><span style=\"color: #808000; text-decoration-color: #808000; font-weight: bold\">C:\\ProgramData\\anaconda3\\envs\\hd-ariflow\\Lib\\site-packages\\airflow\\models\\param.py:</span><span style=\"color: #808000; text-decoration-color: #808000; font-weight: bold\">75</span><span style=\"color: #808000; text-decoration-color: #808000; font-weight: bold\"> RemovedInAirflow3Warning</span><span style=\"color: #808000; text-decoration-color: #808000\">: The use of non-json-serializable params is deprecated and will be removed in a future release</span>\n",
       "</pre>\n"
      ]
     },
     "metadata": {},
     "output_type": "display_data"
    },
    {
     "name": "stdout",
     "output_type": "stream",
     "text": [
      "<Task(SnowflakeOperator): call_snowflake_procedure>\n"
     ]
    }
   ],
   "execution_count": 103
  },
  {
   "metadata": {},
   "cell_type": "code",
   "outputs": [],
   "execution_count": null,
   "source": "",
   "id": "60fe32f63f5076f3"
  }
 ],
 "metadata": {
  "kernelspec": {
   "display_name": "Python 3",
   "language": "python",
   "name": "python3"
  },
  "language_info": {
   "codemirror_mode": {
    "name": "ipython",
    "version": 2
   },
   "file_extension": ".py",
   "mimetype": "text/x-python",
   "name": "python",
   "nbconvert_exporter": "python",
   "pygments_lexer": "ipython2",
   "version": "2.7.6"
  }
 },
 "nbformat": 4,
 "nbformat_minor": 5
}
